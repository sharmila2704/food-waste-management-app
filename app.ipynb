{
 "cells": [
  {
   "cell_type": "code",
   "execution_count": null,
   "id": "20f5cea3",
   "metadata": {
    "lines_to_next_cell": 0
   },
   "outputs": [],
   "source": []
  },
  {
   "cell_type": "code",
   "execution_count": null,
   "id": "1a469fc2",
   "metadata": {},
   "outputs": [],
   "source": [
    "import os\n",
    "import sqlite3\n",
    "from contextlib import closing\n",
    "from datetime import datetime, timedelta"
   ]
  },
  {
   "cell_type": "code",
   "execution_count": null,
   "id": "ed996158",
   "metadata": {},
   "outputs": [],
   "source": [
    "import pandas as pd\n",
    "import streamlit as st"
   ]
  },
  {
   "cell_type": "code",
   "execution_count": null,
   "id": "a7685b43",
   "metadata": {},
   "outputs": [],
   "source": [
    "ROOT = os.path.dirname(__file__)\n",
    "DB_PATH = os.path.join(ROOT, \"foodwaste.db\")\n",
    "SCHEMA_PATH = os.path.join(ROOT, \"schema.sql\")\n",
    "QUERIES_PATH = os.path.join(ROOT, \"queries.sql\")"
   ]
  },
  {
   "cell_type": "code",
   "execution_count": null,
   "id": "95be1a8f",
   "metadata": {
    "lines_to_next_cell": 1
   },
   "outputs": [],
   "source": [
    "st.set_page_config(page_title=\"Local Food Wastage Management System\", layout=\"wide\")"
   ]
  },
  {
   "cell_type": "code",
   "execution_count": null,
   "id": "997ff027",
   "metadata": {
    "lines_to_next_cell": 1
   },
   "outputs": [],
   "source": [
    "# ---------- Helpers ----------\n",
    "def get_conn():\n",
    "    conn = sqlite3.connect(DB_PATH, check_same_thread=False, detect_types=sqlite3.PARSE_DECLTYPES)\n",
    "    conn.execute(\"PRAGMA foreign_keys = ON;\")\n",
    "    return conn"
   ]
  },
  {
   "cell_type": "code",
   "execution_count": null,
   "id": "e4cfe72a",
   "metadata": {
    "lines_to_next_cell": 1
   },
   "outputs": [],
   "source": [
    "def df_read_sql(query, params=None):\n",
    "    with closing(get_conn()) as conn:\n",
    "        return pd.read_sql_query(query, conn, params=params)"
   ]
  },
  {
   "cell_type": "code",
   "execution_count": null,
   "id": "3762de17",
   "metadata": {
    "lines_to_next_cell": 1
   },
   "outputs": [],
   "source": [
    "def run_query(query, params=None):\n",
    "    with closing(get_conn()) as conn:\n",
    "        cur = conn.cursor()\n",
    "        cur.execute(query, params or {})\n",
    "        conn.commit()\n",
    "        return cur"
   ]
  },
  {
   "cell_type": "code",
   "execution_count": null,
   "id": "60023848",
   "metadata": {
    "lines_to_next_cell": 1
   },
   "outputs": [],
   "source": [
    "def init_db_if_missing():\n",
    "    if not os.path.exists(DB_PATH):\n",
    "        st.warning(\"Database not found. Click **Build / Refresh DB** to create it from CSVs in ./data.\")\n",
    "    else:\n",
    "        st.success(f\"Connected to database at: {DB_PATH}\")"
   ]
  },
  {
   "cell_type": "code",
   "execution_count": null,
   "id": "ac20beee",
   "metadata": {},
   "outputs": [],
   "source": [
    "# ---------- Sidebar ----------\n",
    "st.sidebar.title(\"Controls\")\n",
    "if st.sidebar.button(\"Build / Refresh DB\"):\n",
    "    # Run local ETL script\n",
    "    import importlib.util, sys\n",
    "    etl_path = os.path.join(ROOT, \"etl_init_db.py\")\n",
    "    spec = importlib.util.spec_from_file_location(\"etl_init_db\", etl_path)\n",
    "    etl = importlib.util.module_from_spec(spec)\n",
    "    sys.modules[\"etl_init_db\"] = etl\n",
    "    spec.loader.exec_module(etl)\n",
    "    info = etl.build_database()\n",
    "    st.sidebar.success(f\"DB built. Counts: {info['counts']}\")"
   ]
  },
  {
   "cell_type": "code",
   "execution_count": null,
   "id": "c5b1c4de",
   "metadata": {},
   "outputs": [],
   "source": [
    "init_db_if_missing()"
   ]
  },
  {
   "cell_type": "code",
   "execution_count": null,
   "id": "eab6c1de",
   "metadata": {},
   "outputs": [],
   "source": [
    "# Dynamic filters\n",
    "cities = df_read_sql(\"SELECT DISTINCT City FROM providers WHERE City IS NOT NULL UNION SELECT DISTINCT Location FROM food_listings WHERE Location IS NOT NULL ORDER BY 1;\") if os.path.exists(DB_PATH) else pd.DataFrame(columns=[\"City\"])\n",
    "provider_types = df_read_sql(\"SELECT DISTINCT Type FROM providers ORDER BY 1;\") if os.path.exists(DB_PATH) else pd.DataFrame(columns=[\"Type\"])\n",
    "food_types = df_read_sql(\"SELECT DISTINCT Food_Type FROM food_listings ORDER BY 1;\") if os.path.exists(DB_PATH) else pd.DataFrame(columns=[\"Food_Type\"])\n",
    "meal_types = df_read_sql(\"SELECT DISTINCT Meal_Type FROM food_listings ORDER BY 1;\") if os.path.exists(DB_PATH) else pd.DataFrame(columns=[\"Meal_Type\"])"
   ]
  },
  {
   "cell_type": "code",
   "execution_count": null,
   "id": "172ab0d6",
   "metadata": {},
   "outputs": [],
   "source": [
    "f_city = st.sidebar.multiselect(\"City\", cities[\"City\"].dropna().tolist())\n",
    "f_provider_type = st.sidebar.multiselect(\"Provider Type\", provider_types[\"Type\"].dropna().tolist())\n",
    "f_food_type = st.sidebar.multiselect(\"Food Type\", food_types[\"Food_Type\"].dropna().tolist())\n",
    "f_meal_type = st.sidebar.multiselect(\"Meal Type\", meal_types[\"Meal_Type\"].dropna().tolist())\n",
    "days_to_expiry = st.sidebar.slider(\"Expiring within (days)\", min_value=1, max_value=30, value=7)"
   ]
  },
  {
   "cell_type": "code",
   "execution_count": null,
   "id": "9fbf7359",
   "metadata": {},
   "outputs": [],
   "source": [
    "# ---------- Header ----------\n",
    "st.title(\"🥗 Local Food Wastage Management System\")\n",
    "st.caption(\"Connect surplus food providers with receivers, reduce waste, and analyze trends.\")"
   ]
  },
  {
   "cell_type": "code",
   "execution_count": null,
   "id": "c2174b28",
   "metadata": {},
   "outputs": [],
   "source": [
    "# ---------- Dashboard ----------\n",
    "st.subheader(\"📊 Dashboard\")"
   ]
  },
  {
   "cell_type": "code",
   "execution_count": null,
   "id": "55f2f6c0",
   "metadata": {},
   "outputs": [],
   "source": [
    "if os.path.exists(DB_PATH):\n",
    "    # KPIs\n",
    "    kpi_total_providers = df_read_sql(\"SELECT COUNT(*) AS c FROM providers;\")[\"c\"].iloc[0]\n",
    "    kpi_total_receivers = df_read_sql(\"SELECT COUNT(*) AS c FROM receivers;\")[\"c\"].iloc[0]\n",
    "    kpi_total_listings = df_read_sql(\"SELECT COUNT(*) AS c FROM food_listings;\")[\"c\"].iloc[0]\n",
    "    kpi_total_qty = df_read_sql(\"SELECT SUM(COALESCE(Quantity,0)) AS qty FROM food_listings;\")[\"qty\"].iloc[0] or 0\n",
    "\n",
    "    col1, col2, col3, col4 = st.columns(4)\n",
    "    col1.metric(\"Providers\", kpi_total_providers)\n",
    "    col2.metric(\"Receivers\", kpi_total_receivers)\n",
    "    col3.metric(\"Listings\", kpi_total_listings)\n",
    "    col4.metric(\"Total Qty Available\", int(kpi_total_qty))\n",
    "\n",
    "    # Filtered listings table\n",
    "    query = \"SELECT * FROM food_listings WHERE 1=1\"\n",
    "    params = {}\n",
    "    if f_city: query += \" AND Location IN ({})\".format(\",\".join(\"?\"*len(f_city))); params.update({f\"p{i}\": v for i,v in enumerate(f_city)})\n",
    "    if f_provider_type: query += \" AND Provider_Type IN ({})\".format(\",\".join(\"?\"*len(f_provider_type))); params.update({f\"t{i}\": v for i,v in enumerate(f_provider_type)})\n",
    "    if f_food_type: query += \" AND Food_Type IN ({})\".format(\",\".join(\"?\"*len(f_food_type))); params.update({f\"ft{i}\": v for i,v in enumerate(f_food_type)})\n",
    "    if f_meal_type: query += \" AND Meal_Type IN ({})\".format(\",\".join(\"?\"*len(f_meal_type))); params.update({f\"mt{i}\": v for i,v in enumerate(f_meal_type)})\n",
    "    # Workaround for dict->tuple ordering in pandas read_sql_query:\n",
    "    param_tuple = tuple(params.values()) if params else ()\n",
    "\n",
    "    listings_df = df_read_sql(query, param_tuple)\n",
    "    st.markdown(\"**Filtered Listings**\")\n",
    "    st.dataframe(listings_df, use_container_width=True)\n",
    "\n",
    "    # Expiring soon\n",
    "    expiring_df = df_read_sql(\n",
    "        \"SELECT * FROM food_listings WHERE date(Expiry_Date) <= date('now', ?) ORDER BY Expiry_Date;\",\n",
    "        (f\"+{days_to_expiry} day\",)\n",
    "    )\n",
    "    st.markdown(f\"**Expiring within {days_to_expiry} days**\")\n",
    "    st.dataframe(expiring_df, use_container_width=True)"
   ]
  },
  {
   "cell_type": "code",
   "execution_count": null,
   "id": "2d0a009e",
   "metadata": {},
   "outputs": [],
   "source": [
    "# ---------- Tabs for CRUD and Analytics ----------\n",
    "tabs = st.tabs([\"Listings\", \"Claims\", \"Providers\", \"Receivers\", \"Analytics\", \"SQL Queries\", \"Admin\"])"
   ]
  },
  {
   "cell_type": "code",
   "execution_count": null,
   "id": "29e0131e",
   "metadata": {},
   "outputs": [],
   "source": [
    "# Listings Tab\n",
    "with tabs[0]:\n",
    "    st.header(\"🍽️ Listings\")\n",
    "    if os.path.exists(DB_PATH):\n",
    "        st.dataframe(df_read_sql(\"SELECT * FROM food_listings ORDER BY Expiry_Date;\"), use_container_width=True)\n",
    "\n",
    "    with st.form(\"add_listing\"):\n",
    "        st.subheader(\"Add Listing\")\n",
    "        colA, colB, colC = st.columns(3)\n",
    "        with colA:\n",
    "            Food_ID = st.number_input(\"Food_ID\", min_value=1, step=1)\n",
    "            Food_Name = st.text_input(\"Food_Name\")\n",
    "            Quantity = st.number_input(\"Quantity\", min_value=0, step=1)\n",
    "        with colB:\n",
    "            Expiry_Date = st.date_input(\"Expiry_Date\")\n",
    "            Provider_ID = st.number_input(\"Provider_ID\", min_value=1, step=1)\n",
    "            Provider_Type = st.selectbox(\"Provider_Type\", [\"Restaurant\", \"Grocery Store\", \"Supermarket\", \"Bakery\", \"Caterer\", \"Other\"])\n",
    "        with colC:\n",
    "            Location = st.text_input(\"Location\")\n",
    "            Food_Type = st.selectbox(\"Food_Type\", [\"Vegetarian\",\"Non-Vegetarian\",\"Vegan\",\"Other\"])\n",
    "            Meal_Type = st.selectbox(\"Meal_Type\", [\"Breakfast\",\"Lunch\",\"Dinner\",\"Snacks\",\"Other\"])\n",
    "        submitted = st.form_submit_button(\"Create Listing\")\n",
    "        if submitted:\n",
    "            try:\n",
    "                run_query(\"\"\"\n",
    "                    INSERT INTO food_listings (Food_ID, Food_Name, Quantity, Expiry_Date, Provider_ID, Provider_Type, Location, Food_Type, Meal_Type)\n",
    "                    VALUES (?, ?, ?, ?, ?, ?, ?, ?, ?);\n",
    "                \"\"\", (int(Food_ID), Food_Name, int(Quantity), str(Expiry_Date), int(Provider_ID), Provider_Type, Location, Food_Type, Meal_Type))\n",
    "                st.success(\"Listing created.\")\n",
    "            except Exception as e:\n",
    "                st.error(f\"Error: {e}\")\n",
    "\n",
    "    with st.form(\"update_listing\"):\n",
    "        st.subheader(\"Update Listing Quantity / Expiry\")\n",
    "        Food_ID_u = st.number_input(\"Food_ID to update\", min_value=1, step=1, key=\"u_food_id\")\n",
    "        Quantity_u = st.number_input(\"New Quantity\", min_value=0, step=1, key=\"u_qty\")\n",
    "        Expiry_Date_u = st.date_input(\"New Expiry_Date\", key=\"u_exp\")\n",
    "        submitted_u = st.form_submit_button(\"Update\")\n",
    "        if submitted_u:\n",
    "            try:\n",
    "                run_query(\"UPDATE food_listings SET Quantity=?, Expiry_Date=? WHERE Food_ID=?;\", (int(Quantity_u), str(Expiry_Date_u), int(Food_ID_u)))\n",
    "                st.success(\"Listing updated.\")\n",
    "            except Exception as e:\n",
    "                st.error(f\"Error: {e}\")\n",
    "\n",
    "    with st.form(\"delete_listing\"):\n",
    "        st.subheader(\"Delete Listing\")\n",
    "        Food_ID_d = st.number_input(\"Food_ID to delete\", min_value=1, step=1, key=\"d_food_id\")\n",
    "        submitted_d = st.form_submit_button(\"Delete\")\n",
    "        if submitted_d:\n",
    "            try:\n",
    "                run_query(\"DELETE FROM food_listings WHERE Food_ID=?;\", (int(Food_ID_d),))\n",
    "                st.success(\"Listing deleted.\")\n",
    "            except Exception as e:\n",
    "                st.error(f\"Error: {e}\")"
   ]
  },
  {
   "cell_type": "code",
   "execution_count": null,
   "id": "cd22ed7b",
   "metadata": {},
   "outputs": [],
   "source": [
    "# Claims Tab\n",
    "with tabs[1]:\n",
    "    st.header(\"📬 Claims\")\n",
    "    if os.path.exists(DB_PATH):\n",
    "        st.dataframe(df_read_sql(\"SELECT * FROM claims ORDER BY Timestamp DESC;\"), use_container_width=True)\n",
    "\n",
    "    with st.form(\"add_claim\"):\n",
    "        st.subheader(\"Add Claim\")\n",
    "        Claim_ID = st.number_input(\"Claim_ID\", min_value=1, step=1)\n",
    "        Food_ID_c = st.number_input(\"Food_ID\", min_value=1, step=1, key=\"c_food_id\")\n",
    "        Receiver_ID_c = st.number_input(\"Receiver_ID\", min_value=1, step=1)\n",
    "        Status_c = st.selectbox(\"Status\", [\"Pending\",\"Completed\",\"Cancelled\"])\n",
    "        date_part = st.date_input(\"Date\", value=datetime.now().date())\n",
    "        time_part = st.time_input(\"Time\", value=datetime.now().time())\n",
    "        Timestamp_c = datetime.combine(date_part, time_part)\n",
    "        submitted_c = st.form_submit_button(\"Create Claim\")\n",
    "        if submitted_c:\n",
    "            try:\n",
    "                run_query(\"\"\"\n",
    "                    INSERT INTO claims (Claim_ID, Food_ID, Receiver_ID, Status, Timestamp)\n",
    "                    VALUES (?, ?, ?, ?, ?);\n",
    "                \"\"\", (int(Claim_ID), int(Food_ID_c), int(Receiver_ID_c), Status_c, str(Timestamp_c)))\n",
    "                st.success(\"Claim created.\")\n",
    "            except Exception as e:\n",
    "                st.error(f\"Error: {e}\")\n",
    "\n",
    "    with st.form(\"update_claim\"):\n",
    "        st.subheader(\"Update Claim Status\")\n",
    "        Claim_ID_u = st.number_input(\"Claim_ID to update\", min_value=1, step=1, key=\"uc_claim_id\")\n",
    "        Status_u = st.selectbox(\"New Status\", [\"Pending\",\"Completed\",\"Cancelled\"], key=\"uc_status\")\n",
    "        submitted_uc = st.form_submit_button(\"Update Claim\")\n",
    "        if submitted_uc:\n",
    "            try:\n",
    "                run_query(\"UPDATE claims SET Status=? WHERE Claim_ID=?;\", (Status_u, int(Claim_ID_u)))\n",
    "                st.success(\"Claim updated.\")\n",
    "            except Exception as e:\n",
    "                st.error(f\"Error: {e}\")\n",
    "\n",
    "    with st.form(\"delete_claim\"):\n",
    "        st.subheader(\"Delete Claim\")\n",
    "        Claim_ID_d = st.number_input(\"Claim_ID to delete\", min_value=1, step=1, key=\"dc_claim_id\")\n",
    "        submitted_dc = st.form_submit_button(\"Delete\")\n",
    "        if submitted_dc:\n",
    "            try:\n",
    "                run_query(\"DELETE FROM claims WHERE Claim_ID=?;\", (int(Claim_ID_d),))\n",
    "                st.success(\"Claim deleted.\")\n",
    "            except Exception as e:\n",
    "                st.error(f\"Error: {e}\")"
   ]
  },
  {
   "cell_type": "code",
   "execution_count": null,
   "id": "c1103209",
   "metadata": {},
   "outputs": [],
   "source": [
    "# Providers Tab\n",
    "with tabs[2]:\n",
    "    st.header(\"🏪 Providers\")\n",
    "    if os.path.exists(DB_PATH):\n",
    "        st.dataframe(df_read_sql(\"SELECT * FROM providers ORDER BY City, Name;\"), use_container_width=True)\n",
    "\n",
    "    with st.form(\"add_provider\"):\n",
    "        st.subheader(\"Add Provider\")\n",
    "        Provider_ID = st.number_input(\"Provider_ID\", min_value=1, step=1)\n",
    "        Name = st.text_input(\"Name\")\n",
    "        Type = st.selectbox(\"Type\", [\"Restaurant\",\"Grocery Store\",\"Supermarket\",\"Bakery\",\"Caterer\",\"Other\"])\n",
    "        Address = st.text_input(\"Address\")\n",
    "        City = st.text_input(\"City\")\n",
    "        Contact = st.text_input(\"Contact\")\n",
    "        submitted_p = st.form_submit_button(\"Create Provider\")\n",
    "        if submitted_p:\n",
    "            try:\n",
    "                run_query(\"\"\"\n",
    "                    INSERT INTO providers (Provider_ID, Name, Type, Address, City, Contact)\n",
    "                    VALUES (?, ?, ?, ?, ?, ?);\n",
    "                \"\"\", (int(Provider_ID), Name, Type, Address, City, Contact))\n",
    "                st.success(\"Provider created.\")\n",
    "            except Exception as e:\n",
    "                st.error(f\"Error: {e}\")"
   ]
  },
  {
   "cell_type": "code",
   "execution_count": null,
   "id": "6486bec6",
   "metadata": {},
   "outputs": [],
   "source": [
    "# Receivers Tab\n",
    "with tabs[3]:\n",
    "    st.header(\"👤 Receivers\")\n",
    "    if os.path.exists(DB_PATH):\n",
    "        st.dataframe(df_read_sql(\"SELECT * FROM receivers ORDER BY City, Name;\"), use_container_width=True)\n",
    "\n",
    "    with st.form(\"add_receiver\"):\n",
    "        st.subheader(\"Add Receiver\")\n",
    "        Receiver_ID = st.number_input(\"Receiver_ID\", min_value=1, step=1)\n",
    "        Name_r = st.text_input(\"Name\", key=\"r_name\")\n",
    "        Type_r = st.selectbox(\"Type\", [\"NGO\",\"Community Center\",\"Individual\",\"Shelter\",\"Other\"])\n",
    "        City_r = st.text_input(\"City\", key=\"r_city\")\n",
    "        Contact_r = st.text_input(\"Contact\", key=\"r_contact\")\n",
    "        submitted_r = st.form_submit_button(\"Create Receiver\")\n",
    "        if submitted_r:\n",
    "            try:\n",
    "                run_query(\"\"\"\n",
    "                    INSERT INTO receivers (Receiver_ID, Name, Type, City, Contact)\n",
    "                    VALUES (?, ?, ?, ?, ?);\n",
    "                \"\"\", (int(Receiver_ID), Name_r, Type_r, City_r, Contact_r))\n",
    "                st.success(\"Receiver created.\")\n",
    "            except Exception as e:\n",
    "                st.error(f\"Error: {e}\")"
   ]
  },
  {
   "cell_type": "code",
   "execution_count": null,
   "id": "bac106ca",
   "metadata": {},
   "outputs": [],
   "source": [
    "# Analytics Tab\n",
    "with tabs[4]:\n",
    "    st.header(\"📈 Analytics\")\n",
    "    if os.path.exists(DB_PATH):\n",
    "        # Top cities by listings\n",
    "        city_counts = df_read_sql(\"SELECT Location AS City, COUNT(*) AS Listings FROM food_listings GROUP BY Location ORDER BY Listings DESC;\")\n",
    "        st.bar_chart(city_counts.set_index(\"City\"))\n",
    "\n",
    "        # Claim status distribution\n",
    "        status_df = df_read_sql(\"SELECT Status, COUNT(*) AS Count FROM claims GROUP BY Status;\")\n",
    "        st.dataframe(status_df, use_container_width=True)\n",
    "\n",
    "        # Meal type claims\n",
    "        meal_claims = df_read_sql(\"\"\"\n",
    "            SELECT fl.Meal_Type, COUNT(*) AS Claim_Count\n",
    "            FROM claims c JOIN food_listings fl ON fl.Food_ID = c.Food_ID\n",
    "            GROUP BY fl.Meal_Type ORDER BY Claim_Count DESC;\n",
    "        \"\"\")\n",
    "        st.bar_chart(meal_claims.set_index(\"Meal_Type\"))"
   ]
  },
  {
   "cell_type": "code",
   "execution_count": null,
   "id": "bc523329",
   "metadata": {},
   "outputs": [],
   "source": [
    "# SQL Queries Tab\n",
    "with tabs[5]:\n",
    "    st.header(\"🧠 Predefined SQL Insights\")\n",
    "    st.caption(\"These cover 15+ questions from the problem statement.\")\n",
    "    if os.path.exists(DB_PATH):\n",
    "        # Load and split queries by semicolon pairs considering comments\n",
    "        with open(QUERIES_PATH, \"r\", encoding=\"utf-8\") as f:\n",
    "            raw = f.read()\n",
    "        # Very simple split: each SELECT/CTE block ends with semicolon\n",
    "        statements = [s.strip() for s in raw.split(\";\") if s.strip()]\n",
    "        for i, stmt in enumerate(statements, start=1):\n",
    "            # Skip non-SELECT DDL\n",
    "            if not stmt.lower().startswith((\"select\",\"with\")):\n",
    "                continue\n",
    "            st.markdown(f\"**Query {i}**\")\n",
    "            # Provide parameter defaults\n",
    "            params = ()\n",
    "            if \":city\" in stmt:\n",
    "                # default to first chosen city or any city present\n",
    "                city_df = df_read_sql(\"SELECT City FROM providers WHERE City IS NOT NULL LIMIT 1;\")\n",
    "                default_city = city_df[\"City\"].iloc[0] if not city_df.empty else \"Bengaluru\"\n",
    "                stmt = stmt.replace(\":city\", \"?\")\n",
    "                params = (default_city,)\n",
    "                st.caption(f\"Param city = {default_city}\")\n",
    "            if \":days\" in stmt:\n",
    "                stmt = stmt.replace(\":days\", \"?\")\n",
    "                params = (7,)\n",
    "                st.caption(\"Param days = 7\")\n",
    "            try:\n",
    "                df = df_read_sql(stmt, params)\n",
    "                st.dataframe(df, use_container_width=True)\n",
    "            except Exception as e:\n",
    "                st.error(f\"Error running query: {e}\\n\\n{stmt}\")"
   ]
  },
  {
   "cell_type": "code",
   "execution_count": null,
   "id": "9f9b9e9f",
   "metadata": {},
   "outputs": [],
   "source": [
    "# Admin Tab\n",
    "with tabs[6]:\n",
    "    st.header(\"🛠️ Admin\")\n",
    "    st.markdown(\"Re-run ETL to rebuild DB from CSVs in `./data` (or use dummy data if missing).\")\n",
    "    if st.button(\"Rebuild DB Now\"):\n",
    "        import importlib.util, sys\n",
    "        etl_path = os.path.join(ROOT, \"etl_init_db.py\")\n",
    "        spec = importlib.util.spec_from_file_location(\"etl_init_db\", etl_path)\n",
    "        etl = importlib.util.module_from_spec(spec)\n",
    "        sys.modules[\"etl_init_db\"] = etl\n",
    "        spec.loader.exec_module(etl)\n",
    "        info = etl.build_database()\n",
    "        st.success(f\"Rebuilt. Counts: {info['counts']}\")"
   ]
  }
 ],
 "metadata": {
  "jupytext": {
   "cell_metadata_filter": "-all",
   "main_language": "python",
   "notebook_metadata_filter": "-all"
  }
 },
 "nbformat": 4,
 "nbformat_minor": 5
}
